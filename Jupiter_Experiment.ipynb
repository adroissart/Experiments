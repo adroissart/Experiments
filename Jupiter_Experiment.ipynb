{
  "nbformat": 4,
  "nbformat_minor": 0,
  "metadata": {
    "colab": {
      "name": "Jupiter Experiment",
      "provenance": [],
      "collapsed_sections": [],
      "authorship_tag": "ABX9TyOBLISfjzszy/YYI4sTsha7",
      "include_colab_link": true
    },
    "kernelspec": {
      "name": "python3",
      "display_name": "Python 3"
    }
  },
  "cells": [
    {
      "cell_type": "markdown",
      "metadata": {
        "id": "view-in-github",
        "colab_type": "text"
      },
      "source": [
        "<a href=\"https://colab.research.google.com/github/adroissart/Experiments/blob/master/Jupiter_Experiment.ipynb\" target=\"_parent\"><img src=\"https://colab.research.google.com/assets/colab-badge.svg\" alt=\"Open In Colab\"/></a>"
      ]
    },
    {
      "cell_type": "code",
      "metadata": {
        "id": "kIR2mWhT6PVE",
        "colab_type": "code",
        "colab": {}
      },
      "source": [
        "print('Table of squares')\n",
        "for i in range(10):\n",
        "  print(f'{i} times {i} = {i*i}')"
      ],
      "execution_count": null,
      "outputs": []
    },
    {
      "cell_type": "markdown",
      "metadata": {
        "id": "1CGTwOYi7ClM",
        "colab_type": "text"
      },
      "source": [
        "This is my very first Jupiter notebook started from scratch\n",
        "\n",
        "\n",
        "---\n",
        "![Fucking Awesome!](https://gph.is/1TL5s3R)\n",
        "\n"
      ]
    }
  ]
}